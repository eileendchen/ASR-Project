{
  "nbformat": 4,
  "nbformat_minor": 0,
  "metadata": {
    "colab": {
      "provenance": [],
      "mount_file_id": "1ruT24NSvcelKfeDpUIdq37BBEZZJ1QYd",
      "authorship_tag": "ABX9TyPpCphE6dwTsNgYG1HdlWig",
      "include_colab_link": true
    },
    "kernelspec": {
      "name": "python3",
      "display_name": "Python 3"
    }
  },
  "cells": [
    {
      "cell_type": "markdown",
      "metadata": {
        "id": "view-in-github",
        "colab_type": "text"
      },
      "source": [
        "<a href=\"https://colab.research.google.com/github/eileendchen/ASR-Project/blob/main/ASR_Project.ipynb\" target=\"_parent\"><img src=\"https://colab.research.google.com/assets/colab-badge.svg\" alt=\"Open In Colab\"/></a>"
      ]
    },
    {
      "cell_type": "code",
      "metadata": {
        "id": "LrNZpYuDhb-j",
        "colab": {
          "base_uri": "https://localhost:8080/"
        },
        "outputId": "97ae07a9-e708-4303-c68d-3f7d18da16a8"
      },
      "source": [
        "## mount Google Drive ##\n",
        "from google.colab import drive\n",
        "drive.mount('/content/drive')"
      ],
      "execution_count": null,
      "outputs": [
        {
          "output_type": "stream",
          "text": [
            "Drive already mounted at /content/drive; to attempt to forcibly remount, call drive.mount(\"/content/drive\", force_remount=True).\n"
          ],
          "name": "stdout"
        }
      ]
    },
    {
      "cell_type": "code",
      "metadata": {
        "id": "bDkLg_FSfvja",
        "colab": {
          "base_uri": "https://localhost:8080/"
        },
        "outputId": "3fd72cb6-c4d4-472e-e705-5285f5d873c3"
      },
      "source": [
        "## import libraries ##\n",
        "\n",
        "# install meteostat to computer #\n",
        "! pip install meteostat\n",
        "! pip install scikit-plot\n",
        "! pip install streamlit\n",
        "import scikitplot as skplt\n",
        "import meteostat\n",
        "from meteostat import Point, Daily\n",
        "import matplotlib.pyplot as plt\n",
        "import numpy as np\n",
        "import pandas as pd\n",
        "import datetime\n",
        "import csv\n",
        "import sys\n",
        "import streamlit as st\n",
        "import requests \n",
        "import statsmodels.api as sm\n",
        "from datetime import datetime\n",
        "from operator import itemgetter \n",
        "from csv import writer\n",
        "import seaborn as sns\n",
        "from sklearn import svm\n",
        "from sklearn import linear_model\n",
        "from sklearn.linear_model import LogisticRegression\n",
        "from sklearn.ensemble import RandomForestClassifier\n",
        "from sklearn.model_selection import train_test_split\n",
        "from sklearn import metrics\n",
        "from sklearn.metrics import classification_report, confusion_matrix\n",
        "from sklearn.metrics import r2_score, explained_variance_score, mean_absolute_error\n",
        "from sklearn import linear_model\n",
        "from scipy.special import expit\n",
        "\n",
        "\n",
        "## change directory to my working directory ##\n"
      ],
      "execution_count": null,
      "outputs": [
        {
          "output_type": "stream",
          "text": [
            "Requirement already satisfied: meteostat in /usr/local/lib/python3.7/dist-packages (1.1.1)\n",
            "Requirement already satisfied: numpy in /usr/local/lib/python3.7/dist-packages (from meteostat) (1.19.5)\n",
            "Requirement already satisfied: pandas>=1.1 in /usr/local/lib/python3.7/dist-packages (from meteostat) (1.1.5)\n",
            "Requirement already satisfied: pytz in /usr/local/lib/python3.7/dist-packages (from meteostat) (2018.9)\n",
            "Requirement already satisfied: python-dateutil>=2.7.3 in /usr/local/lib/python3.7/dist-packages (from pandas>=1.1->meteostat) (2.8.1)\n",
            "Requirement already satisfied: six>=1.5 in /usr/local/lib/python3.7/dist-packages (from python-dateutil>=2.7.3->pandas>=1.1->meteostat) (1.15.0)\n",
            "Requirement already satisfied: scikit-plot in /usr/local/lib/python3.7/dist-packages (0.3.7)\n",
            "Requirement already satisfied: scikit-learn>=0.18 in /usr/local/lib/python3.7/dist-packages (from scikit-plot) (0.22.2.post1)\n",
            "Requirement already satisfied: matplotlib>=1.4.0 in /usr/local/lib/python3.7/dist-packages (from scikit-plot) (3.2.2)\n",
            "Requirement already satisfied: joblib>=0.10 in /usr/local/lib/python3.7/dist-packages (from scikit-plot) (1.0.1)\n",
            "Requirement already satisfied: scipy>=0.9 in /usr/local/lib/python3.7/dist-packages (from scikit-plot) (1.4.1)\n",
            "Requirement already satisfied: numpy>=1.11.0 in /usr/local/lib/python3.7/dist-packages (from scikit-learn>=0.18->scikit-plot) (1.19.5)\n",
            "Requirement already satisfied: cycler>=0.10 in /usr/local/lib/python3.7/dist-packages (from matplotlib>=1.4.0->scikit-plot) (0.10.0)\n",
            "Requirement already satisfied: python-dateutil>=2.1 in /usr/local/lib/python3.7/dist-packages (from matplotlib>=1.4.0->scikit-plot) (2.8.1)\n",
            "Requirement already satisfied: kiwisolver>=1.0.1 in /usr/local/lib/python3.7/dist-packages (from matplotlib>=1.4.0->scikit-plot) (1.3.1)\n",
            "Requirement already satisfied: pyparsing!=2.0.4,!=2.1.2,!=2.1.6,>=2.0.1 in /usr/local/lib/python3.7/dist-packages (from matplotlib>=1.4.0->scikit-plot) (2.4.7)\n",
            "Requirement already satisfied: six in /usr/local/lib/python3.7/dist-packages (from cycler>=0.10->matplotlib>=1.4.0->scikit-plot) (1.15.0)\n",
            "Requirement already satisfied: streamlit in /usr/local/lib/python3.7/dist-packages (0.78.0)\n",
            "Requirement already satisfied: protobuf!=3.11,>=3.6.0 in /usr/local/lib/python3.7/dist-packages (from streamlit) (3.12.4)\n",
            "Requirement already satisfied: pydeck>=0.1.dev5 in /usr/local/lib/python3.7/dist-packages (from streamlit) (0.6.1)\n",
            "Requirement already satisfied: altair>=3.2.0 in /usr/local/lib/python3.7/dist-packages (from streamlit) (4.1.0)\n",
            "Requirement already satisfied: gitpython in /usr/local/lib/python3.7/dist-packages (from streamlit) (3.1.14)\n",
            "Requirement already satisfied: tzlocal in /usr/local/lib/python3.7/dist-packages (from streamlit) (1.5.1)\n",
            "Requirement already satisfied: astor in /usr/local/lib/python3.7/dist-packages (from streamlit) (0.8.1)\n",
            "Requirement already satisfied: pandas>=0.21.0 in /usr/local/lib/python3.7/dist-packages (from streamlit) (1.1.5)\n",
            "Requirement already satisfied: base58 in /usr/local/lib/python3.7/dist-packages (from streamlit) (2.1.0)\n",
            "Requirement already satisfied: pillow>=6.2.0 in /usr/local/lib/python3.7/dist-packages (from streamlit) (7.0.0)\n",
            "Requirement already satisfied: python-dateutil in /usr/local/lib/python3.7/dist-packages (from streamlit) (2.8.1)\n",
            "Requirement already satisfied: numpy in /usr/local/lib/python3.7/dist-packages (from streamlit) (1.19.5)\n",
            "Requirement already satisfied: blinker in /usr/local/lib/python3.7/dist-packages (from streamlit) (1.4)\n",
            "Requirement already satisfied: packaging in /usr/local/lib/python3.7/dist-packages (from streamlit) (20.9)\n",
            "Requirement already satisfied: requests in /usr/local/lib/python3.7/dist-packages (from streamlit) (2.23.0)\n",
            "Requirement already satisfied: watchdog; platform_system != \"Darwin\" in /usr/local/lib/python3.7/dist-packages (from streamlit) (2.0.2)\n",
            "Requirement already satisfied: toml in /usr/local/lib/python3.7/dist-packages (from streamlit) (0.10.2)\n",
            "Requirement already satisfied: tornado>=5.0 in /usr/local/lib/python3.7/dist-packages (from streamlit) (5.1.1)\n",
            "Requirement already satisfied: pyarrow; python_version < \"3.9\" in /usr/local/lib/python3.7/dist-packages (from streamlit) (3.0.0)\n",
            "Requirement already satisfied: cachetools>=4.0 in /usr/local/lib/python3.7/dist-packages (from streamlit) (4.2.1)\n",
            "Requirement already satisfied: validators in /usr/local/lib/python3.7/dist-packages (from streamlit) (0.18.2)\n",
            "Requirement already satisfied: click>=7.0 in /usr/local/lib/python3.7/dist-packages (from streamlit) (7.1.2)\n",
            "Requirement already satisfied: six>=1.9 in /usr/local/lib/python3.7/dist-packages (from protobuf!=3.11,>=3.6.0->streamlit) (1.15.0)\n",
            "Requirement already satisfied: setuptools in /usr/local/lib/python3.7/dist-packages (from protobuf!=3.11,>=3.6.0->streamlit) (54.0.0)\n",
            "Requirement already satisfied: ipykernel>=5.1.2; python_version >= \"3.4\" in /usr/local/lib/python3.7/dist-packages (from pydeck>=0.1.dev5->streamlit) (5.5.0)\n",
            "Requirement already satisfied: ipywidgets>=7.0.0 in /usr/local/lib/python3.7/dist-packages (from pydeck>=0.1.dev5->streamlit) (7.6.3)\n",
            "Requirement already satisfied: traitlets>=4.3.2 in /usr/local/lib/python3.7/dist-packages (from pydeck>=0.1.dev5->streamlit) (5.0.5)\n",
            "Requirement already satisfied: jinja2>=2.10.1 in /usr/local/lib/python3.7/dist-packages (from pydeck>=0.1.dev5->streamlit) (2.11.3)\n",
            "Requirement already satisfied: toolz in /usr/local/lib/python3.7/dist-packages (from altair>=3.2.0->streamlit) (0.11.1)\n",
            "Requirement already satisfied: jsonschema in /usr/local/lib/python3.7/dist-packages (from altair>=3.2.0->streamlit) (2.6.0)\n",
            "Requirement already satisfied: entrypoints in /usr/local/lib/python3.7/dist-packages (from altair>=3.2.0->streamlit) (0.3)\n",
            "Requirement already satisfied: gitdb<5,>=4.0.1 in /usr/local/lib/python3.7/dist-packages (from gitpython->streamlit) (4.0.5)\n",
            "Requirement already satisfied: pytz in /usr/local/lib/python3.7/dist-packages (from tzlocal->streamlit) (2018.9)\n",
            "Requirement already satisfied: pyparsing>=2.0.2 in /usr/local/lib/python3.7/dist-packages (from packaging->streamlit) (2.4.7)\n",
            "Requirement already satisfied: certifi>=2017.4.17 in /usr/local/lib/python3.7/dist-packages (from requests->streamlit) (2020.12.5)\n",
            "Requirement already satisfied: idna<3,>=2.5 in /usr/local/lib/python3.7/dist-packages (from requests->streamlit) (2.10)\n",
            "Requirement already satisfied: urllib3!=1.25.0,!=1.25.1,<1.26,>=1.21.1 in /usr/local/lib/python3.7/dist-packages (from requests->streamlit) (1.24.3)\n",
            "Requirement already satisfied: chardet<4,>=3.0.2 in /usr/local/lib/python3.7/dist-packages (from requests->streamlit) (3.0.4)\n",
            "Requirement already satisfied: decorator>=3.4.0 in /usr/local/lib/python3.7/dist-packages (from validators->streamlit) (4.4.2)\n",
            "Requirement already satisfied: ipython>=5.0.0 in /usr/local/lib/python3.7/dist-packages (from ipykernel>=5.1.2; python_version >= \"3.4\"->pydeck>=0.1.dev5->streamlit) (5.5.0)\n",
            "Requirement already satisfied: jupyter-client in /usr/local/lib/python3.7/dist-packages (from ipykernel>=5.1.2; python_version >= \"3.4\"->pydeck>=0.1.dev5->streamlit) (5.3.5)\n",
            "Requirement already satisfied: nbformat>=4.2.0 in /usr/local/lib/python3.7/dist-packages (from ipywidgets>=7.0.0->pydeck>=0.1.dev5->streamlit) (5.1.2)\n",
            "Requirement already satisfied: widgetsnbextension~=3.5.0 in /usr/local/lib/python3.7/dist-packages (from ipywidgets>=7.0.0->pydeck>=0.1.dev5->streamlit) (3.5.1)\n",
            "Requirement already satisfied: jupyterlab-widgets>=1.0.0; python_version >= \"3.6\" in /usr/local/lib/python3.7/dist-packages (from ipywidgets>=7.0.0->pydeck>=0.1.dev5->streamlit) (1.0.0)\n",
            "Requirement already satisfied: ipython-genutils in /usr/local/lib/python3.7/dist-packages (from traitlets>=4.3.2->pydeck>=0.1.dev5->streamlit) (0.2.0)\n",
            "Requirement already satisfied: MarkupSafe>=0.23 in /usr/local/lib/python3.7/dist-packages (from jinja2>=2.10.1->pydeck>=0.1.dev5->streamlit) (1.1.1)\n",
            "Requirement already satisfied: smmap<4,>=3.0.1 in /usr/local/lib/python3.7/dist-packages (from gitdb<5,>=4.0.1->gitpython->streamlit) (3.0.5)\n",
            "Requirement already satisfied: simplegeneric>0.8 in /usr/local/lib/python3.7/dist-packages (from ipython>=5.0.0->ipykernel>=5.1.2; python_version >= \"3.4\"->pydeck>=0.1.dev5->streamlit) (0.8.1)\n",
            "Requirement already satisfied: pickleshare in /usr/local/lib/python3.7/dist-packages (from ipython>=5.0.0->ipykernel>=5.1.2; python_version >= \"3.4\"->pydeck>=0.1.dev5->streamlit) (0.7.5)\n",
            "Requirement already satisfied: prompt-toolkit<2.0.0,>=1.0.4 in /usr/local/lib/python3.7/dist-packages (from ipython>=5.0.0->ipykernel>=5.1.2; python_version >= \"3.4\"->pydeck>=0.1.dev5->streamlit) (1.0.18)\n",
            "Requirement already satisfied: pygments in /usr/local/lib/python3.7/dist-packages (from ipython>=5.0.0->ipykernel>=5.1.2; python_version >= \"3.4\"->pydeck>=0.1.dev5->streamlit) (2.6.1)\n",
            "Requirement already satisfied: pexpect; sys_platform != \"win32\" in /usr/local/lib/python3.7/dist-packages (from ipython>=5.0.0->ipykernel>=5.1.2; python_version >= \"3.4\"->pydeck>=0.1.dev5->streamlit) (4.8.0)\n",
            "Requirement already satisfied: pyzmq>=13 in /usr/local/lib/python3.7/dist-packages (from jupyter-client->ipykernel>=5.1.2; python_version >= \"3.4\"->pydeck>=0.1.dev5->streamlit) (22.0.3)\n",
            "Requirement already satisfied: jupyter-core>=4.6.0 in /usr/local/lib/python3.7/dist-packages (from jupyter-client->ipykernel>=5.1.2; python_version >= \"3.4\"->pydeck>=0.1.dev5->streamlit) (4.7.1)\n",
            "Requirement already satisfied: notebook>=4.4.1 in /usr/local/lib/python3.7/dist-packages (from widgetsnbextension~=3.5.0->ipywidgets>=7.0.0->pydeck>=0.1.dev5->streamlit) (5.3.1)\n",
            "Requirement already satisfied: wcwidth in /usr/local/lib/python3.7/dist-packages (from prompt-toolkit<2.0.0,>=1.0.4->ipython>=5.0.0->ipykernel>=5.1.2; python_version >= \"3.4\"->pydeck>=0.1.dev5->streamlit) (0.2.5)\n",
            "Requirement already satisfied: ptyprocess>=0.5 in /usr/local/lib/python3.7/dist-packages (from pexpect; sys_platform != \"win32\"->ipython>=5.0.0->ipykernel>=5.1.2; python_version >= \"3.4\"->pydeck>=0.1.dev5->streamlit) (0.7.0)\n",
            "Requirement already satisfied: nbconvert in /usr/local/lib/python3.7/dist-packages (from notebook>=4.4.1->widgetsnbextension~=3.5.0->ipywidgets>=7.0.0->pydeck>=0.1.dev5->streamlit) (5.6.1)\n",
            "Requirement already satisfied: terminado>=0.8.1 in /usr/local/lib/python3.7/dist-packages (from notebook>=4.4.1->widgetsnbextension~=3.5.0->ipywidgets>=7.0.0->pydeck>=0.1.dev5->streamlit) (0.9.2)\n",
            "Requirement already satisfied: Send2Trash in /usr/local/lib/python3.7/dist-packages (from notebook>=4.4.1->widgetsnbextension~=3.5.0->ipywidgets>=7.0.0->pydeck>=0.1.dev5->streamlit) (1.5.0)\n",
            "Requirement already satisfied: mistune<2,>=0.8.1 in /usr/local/lib/python3.7/dist-packages (from nbconvert->notebook>=4.4.1->widgetsnbextension~=3.5.0->ipywidgets>=7.0.0->pydeck>=0.1.dev5->streamlit) (0.8.4)\n",
            "Requirement already satisfied: testpath in /usr/local/lib/python3.7/dist-packages (from nbconvert->notebook>=4.4.1->widgetsnbextension~=3.5.0->ipywidgets>=7.0.0->pydeck>=0.1.dev5->streamlit) (0.4.4)\n",
            "Requirement already satisfied: pandocfilters>=1.4.1 in /usr/local/lib/python3.7/dist-packages (from nbconvert->notebook>=4.4.1->widgetsnbextension~=3.5.0->ipywidgets>=7.0.0->pydeck>=0.1.dev5->streamlit) (1.4.3)\n",
            "Requirement already satisfied: bleach in /usr/local/lib/python3.7/dist-packages (from nbconvert->notebook>=4.4.1->widgetsnbextension~=3.5.0->ipywidgets>=7.0.0->pydeck>=0.1.dev5->streamlit) (3.3.0)\n",
            "Requirement already satisfied: defusedxml in /usr/local/lib/python3.7/dist-packages (from nbconvert->notebook>=4.4.1->widgetsnbextension~=3.5.0->ipywidgets>=7.0.0->pydeck>=0.1.dev5->streamlit) (0.6.0)\n",
            "Requirement already satisfied: webencodings in /usr/local/lib/python3.7/dist-packages (from bleach->nbconvert->notebook>=4.4.1->widgetsnbextension~=3.5.0->ipywidgets>=7.0.0->pydeck>=0.1.dev5->streamlit) (0.5.1)\n"
          ],
          "name": "stdout"
        }
      ]
    },
    {
      "cell_type": "code",
      "metadata": {
        "id": "hLiIahTCf0rI"
      },
      "source": [
        "# ## combine csv files ##\n",
        "# ## done in jupyter notebook so the path is different ##\n",
        "\n",
        "# # use dictionary for loop #\n",
        "# yr = {} \n",
        "\n",
        "# for n in range(1987, 2021):\n",
        "#     yr[n] = pd.read_csv(r\"C:\\Eileen\\LGHS 2020-2021\\Lightning data\\lightning_{}.csv\".format(n))\n",
        "#     # returns yr[n] for each year separately #\n",
        "    \n",
        "# # makes list of data frames #\n",
        "# years = [yr[1987], yr[1988], yr[1989], yr[1990], yr[1991], yr[1992], yr[1993], yr[1994], yr[1995], \n",
        "#          yr[1996], yr[1997], yr[1998], yr[1999], yr[2000], yr[2001], yr[2002], yr[2003], yr[2004],\n",
        "#          yr[2005], yr[2006], yr[2007], yr[2008], yr[2009], yr[2010], yr[2011], yr[2012], yr[2013], \n",
        "#          yr[2014], yr[2015], yr[2016], yr[2017], yr[2018], yr[2019], yr[2020]]\n",
        "\n",
        "\n",
        "# # concat into one list #\n",
        "# result = pd.concat(years)\n",
        "\n",
        "\n",
        "# # export list into csv #\n",
        "# result.to_csv (r\"C:\\Eileen\\LGHS 2020-2021\\Lightning data\\allLightningFiles.csv\", index=False, header=True )\n"
      ],
      "execution_count": null,
      "outputs": []
    },
    {
      "cell_type": "code",
      "metadata": {
        "id": "QzyvFRscMPwG"
      },
      "source": [
        "# Change tuples into strings #\n",
        "# read file and provide path #\n",
        "row = pd.read_csv('/content/drive/MyDrive/ColabNotebooks/ASR2021/Data/allLightningFiles.csv', index_col=False )\n",
        "\n",
        "# run for loop #\n",
        "\n",
        "for i in range(0,15):\n",
        "  # only read certain row number, will change to n later #\n",
        "    short = row.iloc[i] \n",
        "\n",
        "  # pull out specific column and convert to string #\n",
        "   \n",
        "    pt = short.center_point_geom\n",
        "    date = short.date\n",
        "    strikes = short.number_of_strikes\n",
        "          \n",
        "  # format variable #\n",
        "  # may have to change the formatting in the future #\n",
        "    pt = pt.replace(')','')                  # take out back parenthesis #\n",
        "    pt = pt.replace('POINT(', '')            # take out \"POINT(\" #\n",
        "    pt = pt.replace(' ',',')                 # take out spaces # \n",
        "    pt = pt.replace(\"'\", \"\")              # take out the apostrophes # \n",
        "    \n",
        "    pt = str(pt)\n",
        "    pt = pt.split(',')                       # split into latitude and longitude #\n",
        "    long = pt[0]                              # assign latitude variablem #\n",
        "    lat = pt[1]                             # assign longitude variable #\n",
        "    long = long.replace(\"'\",\"\")                # take out apostrophe #\n",
        "    lat = lat.replace(\"'\",\"\")              # take out apostrophe #\n",
        "    ptnew = [lat, long]   \n",
        "    ptnew = (str(ptnew))\n",
        "    ptnew = ptnew.replace(\"'\",\"\")\n",
        "    ptnew = ptnew.replace('[','')\n",
        "    ptnew = ptnew.replace(']','')\n",
        "    lat = int(float(lat))                  # convert to integer #\n",
        "    long = int(float(long))                    # convert to integer #\n",
        "\n",
        "    datestr = str(date)\n",
        "    \n",
        "    # get individual variable dates #\n",
        "    date = date.split('/')                   # split date into days, months, and year #\n",
        "    year = date[2]                           # assign year variable #\n",
        "    year = int(float(year))                  # convert to integer #\n",
        "    day = date[1]                            # assign day variable #\n",
        "    day = int(float(day))                    # convert to integer #\n",
        "    month = date[0]                          # assign month variable #\n",
        "    month = int(float(month))                # convert to integer #   \n",
        "\n",
        "    #test = data.at[0,'tmax']\n",
        "    #if test > 0:\n",
        "      #print ('yay') \n",
        "\n",
        "    try: \n",
        "        start = datetime(year, month, day)\n",
        "        end = start\n",
        "\n",
        "        # create location variable #\n",
        "        location = Point(lat, long)\n",
        "  \n",
        "        data = Daily(location, start, end)\n",
        "        data = data.fetch()\n",
        "\n",
        "\n",
        "        # convert the weather info to csv file#\n",
        "        data.to_csv('data.csv')\n",
        "        read = pd.read_csv('data.csv')\n",
        "   \n",
        "        if read.empty:\n",
        "          continue\n",
        "\n",
        "        if not read.empty:\n",
        "          n = n+1\n",
        "          \n",
        "          # to avoid int not callable error #\n",
        "\n",
        "          str = 6\n",
        "          del str\n",
        "          # make average temperature variable #\n",
        "          tavg = read['tavg']\n",
        "          tavg = tavg.values.tolist()\n",
        "          tavg = str(tavg)\n",
        "          tavg = tavg.replace('[','')\n",
        "          tavg = tavg.replace(']','')\n",
        "\n",
        "          # make rain variable #\n",
        "          prcp = read['prcp']\n",
        "          prcp = str(prcp.values.tolist())\n",
        "          prcp = prcp.replace('[','')\n",
        "          prcp = prcp.replace(']','')\n",
        "\n",
        "          # make snow variable #\n",
        "          snow = read['snow']\n",
        "          snow = str(snow.values.tolist())\n",
        "          snow = snow.replace('[','')\n",
        "          snow = snow.replace(']','')\n",
        "\n",
        "          # make wind speed variable #\n",
        "          wind = read['wspd']\n",
        "          wind = str(wind.values.tolist())\n",
        "          wind = wind.replace('[','')\n",
        "          wind = wind.replace(']','')\n",
        "\n",
        "          # make air pressure variable #\n",
        "          pressure = read['pres']\n",
        "          pressure = str(pressure.values.tolist())\n",
        "          pressure = pressure.replace('[','')\n",
        "          pressure = pressure.replace('[','')\n",
        "  \n",
        "          List = [datestr, ptnew, strikes, tavg, prcp, snow, wind,'1']\n",
        "          print (List)\n",
        "\n",
        "          #n = str(n)\n",
        "          #datecol = 'A' + n\n",
        "          #locationcol = 'B' + n\n",
        "          #strikescol = 'C' + n \n",
        "          #tempcol = 'D' + n \n",
        "          #raincol = 'E' + n\n",
        "          #snowcol = 'F' + n\n",
        "          #pressurecol = 'G' + n \n",
        "\n",
        "          with open('allLightning.csv', 'a') as f_object: \n",
        "        \n",
        "          # Pass this file object to csv.writer() \n",
        "          # and get a writer object \n",
        "            writer_object = writer(f_object) \n",
        "  \n",
        "          # Pass the list as an argument into \n",
        "          # the writerow() \n",
        "            writer_object.writerow(List) \n",
        "  \n",
        "         #Close the file object \n",
        "            f_object.close() \n",
        "\n",
        "    except IndexError:\n",
        "      print ('index error')\n",
        "      print (i)\n",
        "\n",
        "    except TypeError:\n",
        "      continue\n",
        "   "
      ],
      "execution_count": null,
      "outputs": []
    },
    {
      "cell_type": "code",
      "metadata": {
        "id": "b81i9aM1M7BA"
      },
      "source": [
        "# for 0 values# \n",
        "# Change tuples into strings #\n",
        "# read file and provide path #\n",
        "\n",
        "for x in range(0,1):\n",
        "  for year in range(1997,2021):\n",
        "    for month in range(1,13):\n",
        "      for day in range(1,29):\n",
        "        for l in range(30, 50):\n",
        "          for o in range(0,-70):\n",
        "   \n",
        "            try: \n",
        "              start = datetime(year, month, day)\n",
        "              end = start\n",
        "\n",
        "              # create location variable #\n",
        "              location = Point(l, o)\n",
        "        \n",
        "              data = Daily(location, start, end)\n",
        "              data = data.fetch()\n",
        "\n",
        "              # convert the weather info to csv file#\n",
        "              data.to_csv('data.csv')\n",
        "              read = pd.read_csv('data.csv')\n",
        "        \n",
        "              if read.empty:\n",
        "                continue\n",
        "\n",
        "              if not read.empty:\n",
        "                \n",
        "                # to avoid int not callable error #\n",
        "\n",
        "                str = 6\n",
        "                del str\n",
        "                # make average temperature variable #\n",
        "                tavg = read['tavg']\n",
        "                tavg = tavg.values.tolist()\n",
        "                tavg = str(tavg)\n",
        "                tavg = tavg.replace('[','')\n",
        "                tavg = tavg.replace(']','')\n",
        "\n",
        "                # make rain variable #\n",
        "                prcp = read['prcp']\n",
        "                prcp = str(prcp.values.tolist())\n",
        "                prcp = prcp.replace('[','')\n",
        "                prcp = prcp.replace(']','')\n",
        "\n",
        "                # make wind speed variable #\n",
        "                wind = read['wspd']\n",
        "                wind = str(wind.values.tolist())\n",
        "                wind = wind.replace('[','')\n",
        "                wind = wind.replace(']','')\n",
        "\n",
        "                l = str(l)\n",
        "                o = str(o)\n",
        "\n",
        "                loc = (l,o)\n",
        "                loc = str(loc)\n",
        "                loc = loc.replace(\"'\",\"\")\n",
        "                loc = loc.replace('(','')\n",
        "                loc = loc.replace(')','')\n",
        "        \n",
        "                List = [l, o, '0', tavg, prcp, wind,'0']\n",
        "                print (List)\n",
        "                if loc != 'nan':\n",
        "                  if strikes != 'nan':\n",
        "                    if tavg != 'nan':\n",
        "                      if prcp != 'nan':\n",
        "                        if wind != 'nan':\n",
        "                          with open('/content/drive/MyDrive/ColabNotebooks/0values.csv', 'a') as f_object:\n",
        "                            writer_object = writer(f_object)\n",
        "\n",
        "                            writer_object.writerow(List)\n",
        "\n",
        "                            f_object.close()\n",
        "\n",
        "            except IndexError:\n",
        "              print ('index error')\n",
        "              print (year,month,day)\n",
        "\n",
        "            except TypeError:\n",
        "              continue\n",
        "   "
      ],
      "execution_count": null,
      "outputs": []
    },
    {
      "cell_type": "code",
      "metadata": {
        "colab": {
          "base_uri": "https://localhost:8080/",
          "height": 872
        },
        "id": "_uEBDF666yXl",
        "outputId": "dcd8cfbb-11f6-4748-8d27-a6fb108f040f"
      },
      "source": [
        "# running logistic regression #\n",
        "col_names = ['latitude', 'longitude', 'numstrikes', 'avgtemp', 'prcp', 'windspeed', 'label']\n",
        "# load dataset\n",
        "pima = pd.read_csv(\"/content/drive/MyDrive/ColabNotebooks/allValues.csv\", header=0, names=col_names)\n",
        "\n",
        "feature_cols = ['latitude', 'longitude','avgtemp','prcp','windspeed']\n",
        "\n",
        "X = pima[feature_cols] # Features\n",
        "y = pima.label # Target variable\n",
        "\n",
        "X_train,X_test,y_train,y_test=train_test_split(X,y,test_size=.25,random_state=None)\n",
        "\n",
        "# instantiate the model (using the default parameters)\n",
        "logreg = LogisticRegression(solver='liblinear')\n",
        "\n",
        "\n",
        "# fit the model with data\n",
        "logreg.fit(X_train,y_train)\n",
        "\n",
        "#\n",
        "y_pred=logreg.predict(X_test)\n",
        "\n",
        "cnf_matrix = metrics.confusion_matrix(y_test, y_pred)\n",
        "cnf_matrix\n",
        "\n",
        "class_names=[0,1] # name  of classes\n",
        "fig, ax = plt.subplots()\n",
        "tick_marks = np.arange(len(class_names))\n",
        "plt.xticks(tick_marks, class_names)\n",
        "plt.yticks(tick_marks, class_names)\n",
        "# create heatmap\n",
        "sns.heatmap(pd.DataFrame(cnf_matrix), annot=True, cmap=\"PuBu\" ,fmt='g')\n",
        "ax.xaxis.set_label_position(\"top\")\n",
        "plt.tight_layout()\n",
        "plt.title('Confusion matrix', y=1.1)\n",
        "plt.ylabel('Actual label')\n",
        "plt.xlabel('Predicted label')\n",
        "\n",
        "\n",
        "print(\"Accuracy:\",metrics.accuracy_score(y_test, y_pred))\n",
        "print(\"Precision:\",metrics.precision_score(y_test, y_pred))\n",
        "print(\"Recall:\",metrics.recall_score(y_test, y_pred))\n",
        "\n",
        "print(logreg.coef_)\n",
        "\n",
        "y_pred_proba = logreg.predict_proba(X_test)[::,1]\n",
        "fpr, tpr, _ = metrics.roc_curve(y_test,  y_pred_proba)\n",
        "auc = metrics.roc_auc_score(y_test, y_pred_proba)\n",
        "plt.plot(fpr,tpr,label=\"data 1, auc=\"+str(auc))\n",
        "plt.legend(loc=4)\n",
        "plt.show()\n",
        "\n",
        "probs = logreg.predict_proba(X_test)\n",
        "plot = skplt.metrics.plot_roc(y_test, probs)\n",
        "plt.title(\"ROC Curves - MLPClassifier\")\n"
      ],
      "execution_count": null,
      "outputs": [
        {
          "output_type": "stream",
          "text": [
            "Accuracy: 0.9116684841875682\n",
            "Precision: 0.9034627492130115\n",
            "Recall: 0.924812030075188\n",
            "[[ 0.18466565  0.10235202  0.27146294  0.0529553  -0.03139277]]\n"
          ],
          "name": "stdout"
        },
        {
          "output_type": "display_data",
          "data": {
            "image/png": "[encoded data removed]",
            "text/plain": [
              "<Figure size 432x288 with 2 Axes>"
            ]
          },
          "metadata": {
            "tags": [],
            "needs_background": "light"
          }
        },
        {
          "output_type": "error",
          "ename": "ValueError",
          "evalue": "ignored",
          "traceback": [
            "\u001b[0;31m---------------------------------------------------------------------------\u001b[0m",
            "\u001b[0;31mValueError\u001b[0m                                Traceback (most recent call last)",
            "\u001b[0;32m<ipython-input-75-863de2beb5ac>\u001b[0m in \u001b[0;36m<module>\u001b[0;34m()\u001b[0m\n\u001b[1;32m     63\u001b[0m \u001b[0mX_test\u001b[0m \u001b[0;34m=\u001b[0m \u001b[0mnp\u001b[0m\u001b[0;34m.\u001b[0m\u001b[0mlinspace\u001b[0m\u001b[0;34m(\u001b[0m\u001b[0;34m-\u001b[0m\u001b[0;36m5\u001b[0m\u001b[0;34m,\u001b[0m \u001b[0;36m10\u001b[0m\u001b[0;34m,\u001b[0m \u001b[0;36m300\u001b[0m\u001b[0;34m)\u001b[0m\u001b[0;34m\u001b[0m\u001b[0;34m\u001b[0m\u001b[0m\n\u001b[1;32m     64\u001b[0m \u001b[0;34m\u001b[0m\u001b[0m\n\u001b[0;32m---> 65\u001b[0;31m \u001b[0mloss\u001b[0m \u001b[0;34m=\u001b[0m \u001b[0mexpit\u001b[0m\u001b[0;34m(\u001b[0m\u001b[0mX_test\u001b[0m \u001b[0;34m*\u001b[0m \u001b[0mlogreg\u001b[0m\u001b[0;34m.\u001b[0m\u001b[0mcoef_\u001b[0m \u001b[0;34m+\u001b[0m \u001b[0mlogreg\u001b[0m\u001b[0;34m.\u001b[0m\u001b[0mintercept_\u001b[0m\u001b[0;34m)\u001b[0m\u001b[0;34m.\u001b[0m\u001b[0mravel\u001b[0m\u001b[0;34m(\u001b[0m\u001b[0;34m)\u001b[0m\u001b[0;34m\u001b[0m\u001b[0;34m\u001b[0m\u001b[0m\n\u001b[0m\u001b[1;32m     66\u001b[0m \u001b[0mplt\u001b[0m\u001b[0;34m.\u001b[0m\u001b[0mplot\u001b[0m\u001b[0;34m(\u001b[0m\u001b[0mX_test\u001b[0m\u001b[0;34m,\u001b[0m \u001b[0mloss\u001b[0m\u001b[0;34m,\u001b[0m \u001b[0mcolor\u001b[0m\u001b[0;34m=\u001b[0m\u001b[0;34m'red'\u001b[0m\u001b[0;34m,\u001b[0m \u001b[0mlinewidth\u001b[0m\u001b[0;34m=\u001b[0m\u001b[0;36m3\u001b[0m\u001b[0;34m)\u001b[0m\u001b[0;34m\u001b[0m\u001b[0;34m\u001b[0m\u001b[0m\n\u001b[1;32m     67\u001b[0m \u001b[0;34m\u001b[0m\u001b[0m\n",
            "\u001b[0;31mValueError\u001b[0m: operands could not be broadcast together with shapes (300,) (1,5) "
          ]
        },
        {
          "output_type": "display_data",
          "data": {
            "image/png": "[encoded data removed]",
            "text/plain": [
              "<Figure size 432x288 with 1 Axes>"
            ]
          },
          "metadata": {
            "tags": [],
            "needs_background": "light"
          }
        }
      ]
    },
    {
      "cell_type": "code",
      "metadata": {
        "colab": {
          "base_uri": "https://localhost:8080/"
        },
        "id": "54cud47WvVDq",
        "outputId": "c8239fa2-e1d5-424d-d7fb-0ab5f17b9286"
      },
      "source": [],
      "execution_count": null,
      "outputs": [
        {
          "output_type": "stream",
          "text": [
            "Usage: streamlit run [OPTIONS] TARGET [ARGS]...\n",
            "\n",
            "Error: Invalid value: File does not exist: iris-ml-app.py\n"
          ],
          "name": "stdout"
        }
      ]
    },
    {
      "cell_type": "code",
      "metadata": {
        "id": "OhlQkdAHx5zJ"
      },
      "source": [],
      "execution_count": null,
      "outputs": []
    },
    {
      "cell_type": "code",
      "metadata": {
        "colab": {
          "base_uri": "https://localhost:8080/",
          "height": 300
        },
        "id": "9hUrYJOQVTuE",
        "outputId": "8014b0bd-2894-4649-e85c-3bcbb127c78b"
      },
      "source": [
        "   \n",
        "Parameters = ['Latitude','Longitude','Average Temp','Rain','Wind speed']\n",
        "\n",
        "Coefficients = [0.17304973, 0.09772443, 0.27377856, 0.05391653, -0.03062149]\n",
        "                \n",
        "New_Colors = ['blue']\n",
        "plt.bar(Parameters, Coefficients, color=New_Colors)\n",
        "plt.title('Coefficients of Parameters', fontsize=14)\n",
        "plt.xlabel('Parameters', fontsize=14)\n",
        "plt.ylabel('Coefficient', fontsize=14)\n",
        "plt.grid(False)\n",
        "plt.show()\n",
        "\n"
      ],
      "execution_count": null,
      "outputs": [
        {
          "output_type": "display_data",
          "data": {
            "image/png": "[encoded data removed]",
            "text/plain": [
              "<Figure size 432x288 with 1 Axes>"
            ]
          },
          "metadata": {
            "tags": [],
            "needs_background": "light"
          }
        }
      ]
    },
    {
      "cell_type": "code",
      "metadata": {
        "colab": {
          "base_uri": "https://localhost:8080/",
          "height": 768
        },
        "id": "ytHOH_HP4pQN",
        "outputId": "3556595c-4854-4f98-dcaf-989f07072183"
      },
      "source": [
        "col_names = ['latitude', 'longitude','numstrikes', 'avgtemp', 'prcp', 'windspeed', 'label']\n",
        "# load dataset\n",
        "pima = pd.read_csv(\"/content/drive/MyDrive/ColabNotebooks/allValues.csv\", header=0, names=col_names)\n",
        "\n",
        "feature_cols = ['latitude', 'longitude','windspeed']\n",
        "\n",
        "X = pima[feature_cols] # Features\n",
        "y = pima.label # Target variable\n",
        "\n",
        "X_train,X_test,y_train,y_test=train_test_split(X,y,test_size=.80,random_state=42)\n",
        "\n",
        "tree = RandomForestClassifier()\n",
        "branch = tree.fit(X_train,y_train)\n",
        "\n",
        "y_pred = tree.predict(X_test)\n",
        "\n",
        "cnf_matrix = metrics.confusion_matrix(y_test, y_pred)\n",
        "print (cnf_matrix)\n",
        "\n",
        "class_names=[0,1] # name  of classes\n",
        "fig, ax = plt.subplots()\n",
        "tick_marks = np.arange(len(class_names))\n",
        "plt.xticks(tick_marks, class_names)\n",
        "plt.yticks(tick_marks, class_names)\n",
        "# create heatmap\n",
        "sns.heatmap(pd.DataFrame(cnf_matrix), annot=True, cmap=\"PuBu\" ,fmt='g')\n",
        "ax.xaxis.set_label_position(\"top\")\n",
        "plt.tight_layout()\n",
        "plt.title('Confusion matrix', y=1.1)\n",
        "plt.ylabel('Actual label')\n",
        "plt.xlabel('Predicted label')\n",
        "\n",
        "\n",
        "print(\"Accuracy:\",metrics.accuracy_score(y_test, y_pred))\n",
        "print(\"Precision:\",metrics.precision_score(y_test, y_pred))\n",
        "print(\"Recall:\",metrics.recall_score(y_test, y_pred))\n",
        "\n",
        "print(tree.predict_proba(X_test))\n",
        "\n",
        "y_pred_proba = tree.predict_proba(X_test)[::,1]\n",
        "fpr, tpr, _ = metrics.roc_curve(y_test,  y_pred_proba)\n",
        "auc = metrics.roc_auc_score(y_test, y_pred_proba)\n",
        "plt.plot(fpr,tpr,label=\"data 1, auc=\"+str(auc))\n",
        "plt.legend(loc=4)\n",
        "plt.show()\n",
        "\n",
        "weight = tree.feature_importances_\n",
        "weight = list(weight)\n",
        "zero = weight[0]\n",
        "one = weight[1]\n",
        "two = weight[2]\n",
        "three = weight[3]\n",
        "four = weight[4]\n",
        "\n",
        "Parameters = ['Latitude','Longitude','Average Temp','Rain','Wind speed']\n",
        "\n",
        "Coefficients = [zero, one, two, three, four]\n",
        "                \n",
        "New_Colors = ['blue']\n",
        "plt.bar(Parameters, Coefficients, color=New_Colors)\n",
        "plt.title('Random Forest Feature Importance', fontsize=14)\n",
        "plt.xlabel('Features', fontsize=14)\n",
        "plt.ylabel('Importance', fontsize=14)\n",
        "plt.grid(False)\n",
        "plt.show()\n",
        "\n",
        "probs = tree.predict_proba(X_test)\n",
        "plot = skplt.metrics.plot_roc(y_test, probs)\n",
        "plt.title(\"ROC Curves - MLPClassifier\")\n"
      ],
      "execution_count": null,
      "outputs": [
        {
          "output_type": "stream",
          "text": [
            "[[2492  340]\n",
            " [ 431 2604]]\n",
            "Accuracy: 0.8685870121015852\n",
            "Precision: 0.8845108695652174\n",
            "Recall: 0.857990115321252\n",
            "[[0.78 0.22]\n",
            " [0.79 0.21]\n",
            " [0.   1.  ]\n",
            " ...\n",
            " [0.   1.  ]\n",
            " [0.91 0.09]\n",
            " [0.95 0.05]]\n"
          ],
          "name": "stdout"
        },
        {
          "output_type": "display_data",
          "data": {
            "image/png": "[encoded data removed]",
            "text/plain": [
              "<Figure size 432x288 with 2 Axes>"
            ]
          },
          "metadata": {
            "tags": [],
            "needs_background": "light"
          }
        },
        {
          "output_type": "error",
          "ename": "IndexError",
          "evalue": "ignored",
          "traceback": [
            "\u001b[0;31m---------------------------------------------------------------------------\u001b[0m",
            "\u001b[0;31mIndexError\u001b[0m                                Traceback (most recent call last)",
            "\u001b[0;32m<ipython-input-13-1d13d07fc59b>\u001b[0m in \u001b[0;36m<module>\u001b[0;34m()\u001b[0m\n\u001b[1;32m     50\u001b[0m \u001b[0mone\u001b[0m \u001b[0;34m=\u001b[0m \u001b[0mweight\u001b[0m\u001b[0;34m[\u001b[0m\u001b[0;36m1\u001b[0m\u001b[0;34m]\u001b[0m\u001b[0;34m\u001b[0m\u001b[0;34m\u001b[0m\u001b[0m\n\u001b[1;32m     51\u001b[0m \u001b[0mtwo\u001b[0m \u001b[0;34m=\u001b[0m \u001b[0mweight\u001b[0m\u001b[0;34m[\u001b[0m\u001b[0;36m2\u001b[0m\u001b[0;34m]\u001b[0m\u001b[0;34m\u001b[0m\u001b[0;34m\u001b[0m\u001b[0m\n\u001b[0;32m---> 52\u001b[0;31m \u001b[0mthree\u001b[0m \u001b[0;34m=\u001b[0m \u001b[0mweight\u001b[0m\u001b[0;34m[\u001b[0m\u001b[0;36m3\u001b[0m\u001b[0;34m]\u001b[0m\u001b[0;34m\u001b[0m\u001b[0;34m\u001b[0m\u001b[0m\n\u001b[0m\u001b[1;32m     53\u001b[0m \u001b[0mfour\u001b[0m \u001b[0;34m=\u001b[0m \u001b[0mweight\u001b[0m\u001b[0;34m[\u001b[0m\u001b[0;36m4\u001b[0m\u001b[0;34m]\u001b[0m\u001b[0;34m\u001b[0m\u001b[0;34m\u001b[0m\u001b[0m\n\u001b[1;32m     54\u001b[0m \u001b[0;34m\u001b[0m\u001b[0m\n",
            "\u001b[0;31mIndexError\u001b[0m: list index out of range"
          ]
        }
      ]
    },
    {
      "cell_type": "code",
      "metadata": {
        "colab": {
          "base_uri": "https://localhost:8080/",
          "height": 415
        },
        "id": "MF55CFbX413_",
        "outputId": "a38b14ca-4669-448d-afe2-9ca919701282"
      },
      "source": [
        "col_names = ['latitude', 'longitude','numstrikes', 'avgtemp', 'prcp', 'windspeed', 'label']\n",
        "# load dataset\n",
        "pima = pd.read_csv(\"/content/drive/MyDrive/ColabNotebooks/allValues.csv\", header=0, names=col_names)\n",
        "\n",
        "feature_cols = ['latitude', 'longitude','avgtemp','prcp','windspeed']\n",
        "\n",
        "X = pima[feature_cols] # Features\n",
        "y = pima.label # Target variable\n",
        "\n",
        "X_train,X_test,y_train,y_test=train_test_split(X,y,test_size=.50,random_state=0)\n",
        "\n",
        "clf = svm.SVC(kernel='linear')\n",
        "\n",
        "clf.fit(X_train, y_train)\n",
        "\n",
        "y_pred = clf.predict(X_test)\n",
        "\n",
        "cnf_matrix = metrics.confusion_matrix(y_test, y_pred)\n",
        "print (cnf_matrix)\n",
        "\n",
        "class_names=[0,1] # name  of classes\n",
        "fig, ax = plt.subplots()\n",
        "tick_marks = np.arange(len(class_names))\n",
        "plt.xticks(tick_marks, class_names)\n",
        "plt.yticks(tick_marks, class_names)\n",
        "# create heatmap\n",
        "sns.heatmap(pd.DataFrame(cnf_matrix), annot=True, cmap=\"PuBu\" ,fmt='g')\n",
        "ax.xaxis.set_label_position(\"top\")\n",
        "plt.tight_layout()\n",
        "plt.title('Confusion matrix', y=1.1)\n",
        "plt.ylabel('Actual label')\n",
        "plt.xlabel('Predicted label')\n",
        "\n",
        "\n",
        "print(\"Accuracy:\",metrics.accuracy_score(y_test, y_pred))\n",
        "print(\"Precision:\",metrics.precision_score(y_test, y_pred))\n",
        "print(\"Recall:\",metrics.recall_score(y_test, y_pred))\n",
        "\n",
        "\n"
      ],
      "execution_count": null,
      "outputs": [
        {
          "output_type": "stream",
          "text": [
            "[[1590  172]\n",
            " [ 196 1709]]\n",
            "Accuracy: 0.8996454867739296\n",
            "Precision: 0.9085592769803296\n",
            "Recall: 0.8971128608923884\n"
          ],
          "name": "stdout"
        },
        {
          "output_type": "display_data",
          "data": {
            "image/png": "[encoded data removed]",
            "text/plain": [
              "<Figure size 432x288 with 2 Axes>"
            ]
          },
          "metadata": {
            "tags": [],
            "needs_background": "light"
          }
        }
      ]
    },
    {
      "cell_type": "code",
      "metadata": {
        "colab": {
          "base_uri": "https://localhost:8080/"
        },
        "id": "i5uxLgKFHNRS",
        "outputId": "0d0eaf0f-eee6-4a54-d561-cff2a147c035"
      },
      "source": [
        "col_names = ['latitude', 'longitude','numstrikes', 'avgtemp', 'prcp', 'windspeed', 'label']\n",
        "# load dataset\n",
        "pima = pd.read_csv(\"/content/drive/MyDrive/ColabNotebooks/allValues.csv\", header=0, names=col_names)\n",
        "\n",
        "feature_cols = ['latitude', 'longitude','avgtemp','prcp','windspeed']\n",
        "\n",
        "X = pima[feature_cols] # Features\n",
        "y = pima.label # Target variable\n",
        "\n",
        "X_train,X_test,y_train,y_test=train_test_split(X,y,test_size=.75,random_state=42)\n",
        "\n",
        "lm = linear_model.LinearRegression()\n",
        "test = lm.fit(X_train,y_train)\n",
        "\n",
        "y_pred = lm.predict(X_test)\n",
        "\n",
        "print (y_pred)\n",
        "\n",
        "accuracy = lm.score(X_test,y_test)\n",
        "print(accuracy*100,'%')\n",
        "r2 = metrics.explained_variance_score(y_test, y_pred)\n",
        "print(\"R^2 value:\", r2)"
      ],
      "execution_count": null,
      "outputs": [
        {
          "output_type": "stream",
          "text": [
            "[0.52606722 0.89778126 0.59874641 ... 1.00155627 0.08362216 0.17170054]\n",
            "61.96740063925825 %\n",
            "R^2 value: 0.6197859117284026\n"
          ],
          "name": "stdout"
        }
      ]
    }
  ]
}